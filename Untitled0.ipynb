{
  "nbformat": 4,
  "nbformat_minor": 0,
  "metadata": {
    "colab": {
      "provenance": [],
      "authorship_tag": "ABX9TyObN/zRBRrDRyDvCg8/SgOa",
      "include_colab_link": true
    },
    "kernelspec": {
      "name": "python3",
      "display_name": "Python 3"
    },
    "language_info": {
      "name": "python"
    }
  },
  "cells": [
    {
      "cell_type": "markdown",
      "metadata": {
        "id": "view-in-github",
        "colab_type": "text"
      },
      "source": [
        "<a href=\"https://colab.research.google.com/github/HariniPamukuntla/python-/blob/main/Untitled0.ipynb\" target=\"_parent\"><img src=\"https://colab.research.google.com/assets/colab-badge.svg\" alt=\"Open In Colab\"/></a>"
      ]
    },
    {
      "cell_type": "code",
      "execution_count": null,
      "metadata": {
        "id": "ML8-jrGAnPrL"
      },
      "outputs": [],
      "source": [
        "file = open(\"harry_potter.txt\",\"r\")\n",
        "data = file.read()"
      ]
    },
    {
      "cell_type": "code",
      "source": [
        "data"
      ],
      "metadata": {
        "colab": {
          "base_uri": "https://localhost:8080/",
          "height": 70
        },
        "id": "aIigDb10qYCp",
        "outputId": "9e464d9c-9f58-43ac-f0e4-6d646beb641e"
      },
      "execution_count": null,
      "outputs": [
        {
          "output_type": "execute_result",
          "data": {
            "text/plain": [
              "\"Harry Potter\\nPhilosopher's Stone (1997)\\nChamber of Secrets (1998)\\nPrisoner of Azkaban (1999)\\nGoblet of Fire (2000)\\nOrder of the Phoenix (2003)\\nHalf-Blood Prince (2005)\\nDeathly Hallows (2007)\\nJK Rowling\\n\""
            ],
            "application/vnd.google.colaboratory.intrinsic+json": {
              "type": "string"
            }
          },
          "metadata": {},
          "execution_count": 20
        }
      ]
    },
    {
      "cell_type": "code",
      "source": [
        "splitteddata=data.split('\\n')"
      ],
      "metadata": {
        "id": "us3Ktev9qdrg"
      },
      "execution_count": null,
      "outputs": []
    },
    {
      "cell_type": "code",
      "source": [
        "splitteddata"
      ],
      "metadata": {
        "colab": {
          "base_uri": "https://localhost:8080/"
        },
        "id": "Z88eD9aeq1ny",
        "outputId": "6630664d-bef8-46df-fe70-78c8135d34df"
      },
      "execution_count": null,
      "outputs": [
        {
          "output_type": "execute_result",
          "data": {
            "text/plain": [
              "['Harry Potter',\n",
              " \"Philosopher's Stone (1997)\",\n",
              " 'Chamber of Secrets (1998)',\n",
              " 'Prisoner of Azkaban (1999)',\n",
              " 'Goblet of Fire (2000)',\n",
              " 'Order of the Phoenix (2003)',\n",
              " 'Half-Blood Prince (2005)',\n",
              " 'Deathly Hallows (2007)',\n",
              " 'JK Rowling',\n",
              " '']"
            ]
          },
          "metadata": {},
          "execution_count": 24
        }
      ]
    },
    {
      "cell_type": "code",
      "source": [
        "key=splitteddata[0]"
      ],
      "metadata": {
        "id": "2TVIPMtGq9Rr"
      },
      "execution_count": null,
      "outputs": []
    },
    {
      "cell_type": "code",
      "source": [
        "key"
      ],
      "metadata": {
        "colab": {
          "base_uri": "https://localhost:8080/",
          "height": 35
        },
        "id": "CG9EvmJjrCar",
        "outputId": "ff81c74b-92c0-4124-d8e4-0b4ad4e3fb54"
      },
      "execution_count": null,
      "outputs": [
        {
          "output_type": "execute_result",
          "data": {
            "text/plain": [
              "'Harry Potter'"
            ],
            "application/vnd.google.colaboratory.intrinsic+json": {
              "type": "string"
            }
          },
          "metadata": {},
          "execution_count": 29
        }
      ]
    },
    {
      "cell_type": "code",
      "source": [
        "author=splitteddata[-2]"
      ],
      "metadata": {
        "id": "dGsqGCuQyxkA"
      },
      "execution_count": null,
      "outputs": []
    },
    {
      "cell_type": "code",
      "source": [
        "author"
      ],
      "metadata": {
        "colab": {
          "base_uri": "https://localhost:8080/",
          "height": 35
        },
        "id": "dNPKF2Qqy44I",
        "outputId": "c37bf9b9-d310-4600-f4f0-bb930d1e686f"
      },
      "execution_count": null,
      "outputs": [
        {
          "output_type": "execute_result",
          "data": {
            "text/plain": [
              "'JK Rowling'"
            ],
            "application/vnd.google.colaboratory.intrinsic+json": {
              "type": "string"
            }
          },
          "metadata": {},
          "execution_count": 75
        }
      ]
    },
    {
      "cell_type": "code",
      "source": [
        "titleyear=splitteddata[1:-2]"
      ],
      "metadata": {
        "id": "UArhQEmTrfWv"
      },
      "execution_count": null,
      "outputs": []
    },
    {
      "cell_type": "code",
      "source": [
        "titleyear"
      ],
      "metadata": {
        "colab": {
          "base_uri": "https://localhost:8080/"
        },
        "id": "xPdzhh2tr-Ry",
        "outputId": "e4182cac-a5d9-45ee-d28b-87d268a9a6e6"
      },
      "execution_count": null,
      "outputs": [
        {
          "output_type": "execute_result",
          "data": {
            "text/plain": [
              "[\"Philosopher's Stone (1997)\",\n",
              " 'Chamber of Secrets (1998)',\n",
              " 'Prisoner of Azkaban (1999)',\n",
              " 'Goblet of Fire (2000)',\n",
              " 'Order of the Phoenix (2003)',\n",
              " 'Half-Blood Prince (2005)',\n",
              " 'Deathly Hallows (2007)']"
            ]
          },
          "metadata": {},
          "execution_count": 56
        }
      ]
    },
    {
      "cell_type": "code",
      "source": [
        "titlelist=[]\n",
        "yearlist=[]\n",
        "for i in titleyear:\n",
        "  temp=i.split('(')\n",
        "  #print(temp[1].strip()[:-1])\n",
        "  titlelist.append(temp[0].strip())\n",
        "  yearlist.append(temp[1].strip()[:-1])\n",
        "print(yearlist)\n",
        ""
      ],
      "metadata": {
        "colab": {
          "base_uri": "https://localhost:8080/"
        },
        "id": "mO6maJBJunvu",
        "outputId": "a9e10081-a608-4038-a06a-f6b7a1665e0b"
      },
      "execution_count": 135,
      "outputs": [
        {
          "output_type": "stream",
          "name": "stdout",
          "text": [
            "['1997', '1998', '1999', '2000', '2003', '2005', '2007']\n"
          ]
        }
      ]
    },
    {
      "cell_type": "code",
      "source": [
        "D={}\n",
        "i=0\n",
        "for i in range(len(titleyear)):\n",
        "  dkey= key + \" \" + str(i+1)\n",
        "  D[dkey]=None\n",
        ""
      ],
      "metadata": {
        "id": "nYNCEn7bxuIY"
      },
      "execution_count": 99,
      "outputs": []
    },
    {
      "cell_type": "code",
      "source": [
        "D"
      ],
      "metadata": {
        "id": "HxT01PxbxvCA",
        "colab": {
          "base_uri": "https://localhost:8080/"
        },
        "outputId": "27c2f34f-7379-4f4b-842b-539a9c7cb4b0"
      },
      "execution_count": 101,
      "outputs": [
        {
          "output_type": "execute_result",
          "data": {
            "text/plain": [
              "{'Harry Potter 1': None,\n",
              " 'Harry Potter 2': None,\n",
              " 'Harry Potter 3': None,\n",
              " 'Harry Potter 4': None,\n",
              " 'Harry Potter 5': None,\n",
              " 'Harry Potter 6': None,\n",
              " 'Harry Potter 7': None}"
            ]
          },
          "metadata": {},
          "execution_count": 101
        }
      ]
    },
    {
      "cell_type": "code",
      "source": [
        "i=0\n",
        "for key in D:\n",
        "  D[key]={\"title\":titlelist[i],\"year\":yearlist[i],\"author\":author}\n",
        "  i+=1\n"
      ],
      "metadata": {
        "id": "8uybwZJJAP_L"
      },
      "execution_count": 157,
      "outputs": []
    },
    {
      "cell_type": "code",
      "source": [
        "for key in D:\n",
        "  print(key,D[key])"
      ],
      "metadata": {
        "colab": {
          "base_uri": "https://localhost:8080/"
        },
        "id": "iiBTtbiSCIOo",
        "outputId": "6fd45a67-919e-4a75-da8c-79847abde940"
      },
      "execution_count": 160,
      "outputs": [
        {
          "output_type": "stream",
          "name": "stdout",
          "text": [
            "Harry Potter 1 {'title': \"Philosopher's Stone\", 'year': '1997', 'author': 'JK Rowling'}\n",
            "Harry Potter 2 {'title': 'Chamber of Secrets', 'year': '1998', 'author': 'JK Rowling'}\n",
            "Harry Potter 3 {'title': 'Prisoner of Azkaban', 'year': '1999', 'author': 'JK Rowling'}\n",
            "Harry Potter 4 {'title': 'Goblet of Fire', 'year': '2000', 'author': 'JK Rowling'}\n",
            "Harry Potter 5 {'title': 'Order of the Phoenix', 'year': '2003', 'author': 'JK Rowling'}\n",
            "Harry Potter 6 {'title': 'Half-Blood Prince', 'year': '2005', 'author': 'JK Rowling'}\n",
            "Harry Potter 7 {'title': 'Deathly Hallows', 'year': '2007', 'author': 'JK Rowling'}\n"
          ]
        }
      ]
    },
    {
      "cell_type": "code",
      "source": [],
      "metadata": {
        "id": "2eKHrTKkDZU0"
      },
      "execution_count": null,
      "outputs": []
    }
  ]
}